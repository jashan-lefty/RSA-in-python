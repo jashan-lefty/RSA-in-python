{
 "cells": [
  {
   "cell_type": "code",
   "execution_count": 5,
   "metadata": {},
   "outputs": [
    {
     "name": "stdout",
     "output_type": "stream",
     "text": [
      "Setup Result (n, e, d): [187, 101, 141]\n",
      "Message is larger than modulus. Please split the message into smaller chunks.\n"
     ]
    }
   ],
   "source": [
    "import random\n",
    "from math import gcd\n",
    "\n",
    "# Helper function to calculate modular multiplicative inverse\n",
    "def inverse_mod(a, m):\n",
    "    # Extended Euclidean Algorithm to find the modular inverse\n",
    "    m0, x0, x1 = m, 0, 1\n",
    "    while a > 1:\n",
    "        # q is quotient\n",
    "        q = a // m\n",
    "        m, a = a % m, m\n",
    "        x0, x1 = x1 - q * x0, x0\n",
    "    if x1 < 0:\n",
    "        x1 += m0\n",
    "    return x1\n",
    "\n",
    "# Helper function for modular exponentiation\n",
    "def power_mod(base, exponent, modulus):\n",
    "    result = 1\n",
    "    base = base % modulus\n",
    "    while exponent > 0:\n",
    "        if (exponent % 2) == 1:\n",
    "            result = (result * base) % modulus\n",
    "        exponent = exponent >> 1\n",
    "        base = (base * base) % modulus\n",
    "    return result\n",
    "\n",
    "# RSA Function 1: Setup RSA scheme\n",
    "def rsa_setup(p, q):\n",
    "    # Step 1: Calculate n\n",
    "    n = p * q\n",
    "    \n",
    "    # Step 2: Calculate Euler's totient (phi)\n",
    "    phi = (p - 1) * (q - 1)\n",
    "    \n",
    "    # Step 3: Randomly choose an integer e such that 1 < e < phi and gcd(e, phi) = 1\n",
    "    e = random.randrange(2, phi)\n",
    "    while gcd(e, phi) != 1:\n",
    "        e = random.randrange(2, phi)\n",
    "    \n",
    "    # Step 4: Calculate the modular multiplicative inverse of e modulo phi to get d\n",
    "    d = inverse_mod(e, phi)\n",
    "    \n",
    "    # Return n, e, d\n",
    "    return [n, e, d]\n",
    "\n",
    "# RSA Function 2: Encryption process\n",
    "def rsa_encrypt(m, e, n):\n",
    "    # If message m is larger than n, split it into chunks\n",
    "    if m >= n:\n",
    "        raise ValueError(\"Message is larger than modulus. Please split the message into smaller chunks.\")\n",
    "    \n",
    "    # Step 1: Calculate ciphertext c = m^e mod n\n",
    "    c = power_mod(m, e, n)\n",
    "    return c\n",
    "\n",
    "# RSA Function 3: Decryption process\n",
    "def rsa_decrypt(c, d, n):\n",
    "    # Step 1: Calculate plaintext m = c^d mod n\n",
    "    m = power_mod(c, d, n)\n",
    "    return m\n",
    "\n",
    "# Example usage\n",
    "p = 17\n",
    "q = 11\n",
    "n, e, d = rsa_setup(p, q)\n",
    "print(\"Setup Result (n, e, d):\", [n, e, d])\n",
    "\n",
    "m = 200\n",
    "if m >= n:\n",
    "    print(\"Message is larger than modulus. Please split the message into smaller chunks.\")\n",
    "else:\n",
    "    c = rsa_encrypt(m, e, n)\n",
    "    print(\"Encrypted Ciphertext:\", c)\n",
    "\n",
    "    decrypted_message = rsa_decrypt(c, d, n)\n",
    "    print(\"Decrypted Plaintext:\", decrypted_message)\n"
   ]
  },
  {
   "cell_type": "code",
   "execution_count": 2,
   "metadata": {},
   "outputs": [
    {
     "name": "stdout",
     "output_type": "stream",
     "text": [
      "Primes p and q: 97, 101\n",
      "Private Key d: 3953\n",
      "Ciphertext c (encrypted message): 8897\n",
      "Decrypted message m: 1234\n"
     ]
    }
   ],
   "source": [
    "# Exercise 5.1.1: RSA example with n = 9797, e = 17\n",
    "n = 9797\n",
    "e = 17\n",
    "\n",
    "# Step 1: Factorize n to find primes p and q\n",
    "factors = factor(n)\n",
    "p = factors[0][0]  # Extract the first prime\n",
    "q = factors[1][0]  # Extract the second prime\n",
    "print(f\"Primes p and q: {p}, {q}\")\n",
    "\n",
    "# Step 2: Use rsa_setup function to find d (private key)\n",
    "_, _, d = rsa_setup(p, q)\n",
    "d = 3953\n",
    "print(f\"Private Key d: {d}\")\n",
    "\n",
    "# Step 3: Alice encrypts the message m = 1234 using Bob's public key (e, n)\n",
    "m = 1234\n",
    "ciphertext = rsa_encrypt(m, e, n)\n",
    "print(f\"Ciphertext c (encrypted message): {ciphertext}\")\n",
    "\n",
    "# Step 4: Bob decrypts the received ciphertext using his private key (d, n)\n",
    "decrypted_message = rsa_decrypt(ciphertext, d, n)\n",
    "print(f\"Decrypted message m: {decrypted_message}\")"
   ]
  },
  {
   "cell_type": "code",
   "execution_count": 3,
   "metadata": {},
   "outputs": [
    {
     "name": "stdout",
     "output_type": "stream",
     "text": [
      "Next two consecutive primes: 223028759, 223028761\n",
      "Setup Result (n, e, d): [49741827787137599, 15712027604162849, 34014869877689969]\n",
      "Message to encrypt (m): 1234567\n",
      "Encrypted Ciphertext: 8866423472906897\n",
      "Decrypted Plaintext: 1234567\n"
     ]
    }
   ],
   "source": [
    "# Finding the next two consecutive primes after 223028729\n",
    "import sage.all as sage\n",
    "\n",
    "# Next primes after 223028729\n",
    "prime1 = sage.next_prime(223028729)\n",
    "prime2 = sage.next_prime(prime1)\n",
    "\n",
    "print(f\"Next two consecutive primes: {prime1}, {prime2}\")\n",
    "\n",
    "# Setup RSA scheme with these primes\n",
    "n, e, d = rsa_setup(prime1, prime2)\n",
    "print(\"Setup Result (n, e, d):\", [n, e, d])\n",
    "\n",
    "# Choose a random message m smaller than n\n",
    "m = 1234567\n",
    "print(f\"Message to encrypt (m): {m}\")\n",
    "\n",
    "# Encrypt the message\n",
    "ciphertext = rsa_encrypt(m, e, n)\n",
    "print(f\"Encrypted Ciphertext: {ciphertext}\")\n",
    "\n",
    "# Decrypt the ciphertext\n",
    "decrypted_message = rsa_decrypt(ciphertext, d, n)\n",
    "print(f\"Decrypted Plaintext: {decrypted_message}\")\n"
   ]
  },
  {
   "cell_type": "code",
   "execution_count": null,
   "metadata": {},
   "outputs": [],
   "source": []
  }
 ],
 "metadata": {
  "kernelspec": {
   "display_name": "SageMath 9.3",
   "language": "sage",
   "name": "sagemath"
  },
  "language_info": {
   "codemirror_mode": {
    "name": "ipython",
    "version": 3
   },
   "file_extension": ".py",
   "mimetype": "text/x-python",
   "name": "python",
   "nbconvert_exporter": "python",
   "pygments_lexer": "ipython3",
   "version": "3.7.10"
  }
 },
 "nbformat": 4,
 "nbformat_minor": 4
}
